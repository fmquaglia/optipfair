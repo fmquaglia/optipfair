{
  "nbformat": 4,
  "nbformat_minor": 0,
  "metadata": {
    "colab": {
      "provenance": [],
      "gpuType": "T4",
      "authorship_tag": "ABX9TyNd7oRqHZYmo6y0mIRgZAdU",
      "include_colab_link": true
    },
    "kernelspec": {
      "name": "python3",
      "display_name": "Python 3"
    },
    "language_info": {
      "name": "python"
    },
    "accelerator": "GPU"
  },
  "cells": [
    {
      "cell_type": "markdown",
      "metadata": {
        "id": "view-in-github",
        "colab_type": "text"
      },
      "source": [
        "<a href=\"https://colab.research.google.com/github/peremartra/optipfair/blob/main/examples/layer_importance_analysis.ipynb\" target=\"_parent\"><img src=\"https://colab.research.google.com/assets/colab-badge.svg\" alt=\"Open In Colab\"/></a>"
      ]
    },
    {
      "cell_type": "markdown",
      "source": [
        "#OptiPFair Notebook Series – Example: Analyze Layers Importance.\n",
        "\n",
        "![optiPfair Logo](https://github.com/peremartra/optipfair/blob/main/images/optiPfair.png?raw=true)\n",
        "\n",
        "\n",
        "This notebook demonstrates how to use the `analyze_layer_importance` function from OptiPFair to identify which transformer layers in a model are the most redundant or have the least impact on the model's representations.\n",
        "\n",
        "This analysis is a crucial first step for developing a data-driven **Depth Pruning** strategy.\n",
        "\n",
        "##Recommended Environment\n",
        "\n",
        "- **Platform**: [Google Colab](https://colab.research.google.com)  \n",
        "- **Hardware**: GPU runtime (recommended: T4 or better for 1B–3B models)  \n",
        "- **Dependencies**: Installed automatically in the first cell (optipfair, transformers, torch)\n",
        "\n",
        "##by Pere Martra.\n",
        "\n",
        "- [LinkedIn](https://www.linkedin.com/in/pere-martra)  \n",
        "- [GitHub](https://github.com/peremartra)  \n",
        "- [X / Twitter](https://x.com/peremartra)\n",
        "\n",
        "---\n",
        "\n",
        "> If you find this useful, please ⭐ the [repository](https://github.com/peremartra/optipfair) and share it!\n",
        "---\n",
        "If you want to use your favorite LLM to create code with optiPfair, you just need to provide it with the file: [**optipfair_llm_reference_manual.txt**](https://github.com/peremartra/optipfair/blob/main/optipfair_llm_reference_manual.txt), which contains all the necessary information for the LLM to become an expert in using the library."
      ],
      "metadata": {
        "id": "Jc2qifVnYjOS"
      }
    },
    {
      "cell_type": "markdown",
      "source": [
        "## 1. Installation and Setup\n",
        "First, we install the necessary libraries. We include `matplotlib` and `seaborn` to visualize the results."
      ],
      "metadata": {
        "id": "nivy-TKBZCI-"
      }
    },
    {
      "cell_type": "code",
      "execution_count": null,
      "metadata": {
        "id": "o4SNf4zkYbXH"
      },
      "outputs": [],
      "source": [
        "!pip install -q transformers optipfair torch"
      ]
    },
    {
      "cell_type": "code",
      "source": [
        "import torch\n",
        "import os\n",
        "import gc\n",
        "from transformers import AutoModelForCausalLM, AutoTokenizer\n",
        "from datasets import load_dataset\n",
        "from torch.utils.data import DataLoader\n",
        "from optipfair import prune_model_depth, analyze_layer_importance\n",
        "\n",
        "\n",
        "# Check device availability\n",
        "device = torch.device('cuda' if torch.cuda.is_available() else 'cpu')\n",
        "print(f\"Using device: {device}\")\n",
        "if torch.cuda.is_available():\n",
        "    print(f\"GPU: {torch.cuda.get_device_name(0)}\")\n",
        "    print(f\"GPU Memory: {torch.cuda.get_device_properties(0).total_memory / 1024**3:.1f} GB\")"
      ],
      "metadata": {
        "colab": {
          "base_uri": "https://localhost:8080/"
        },
        "id": "JI7mQiZVZV8u",
        "outputId": "b40fe3fe-aa00-4e4f-8be7-31986a644d94"
      },
      "execution_count": 22,
      "outputs": [
        {
          "output_type": "stream",
          "name": "stdout",
          "text": [
            "Using device: cuda\n",
            "GPU: Tesla T4\n",
            "GPU Memory: 14.7 GB\n"
          ]
        }
      ]
    },
    {
      "cell_type": "markdown",
      "source": [
        "## Load Model"
      ],
      "metadata": {
        "id": "Brw-x8wTaSGk"
      }
    },
    {
      "cell_type": "markdown",
      "source": [
        "For this example we'll use a Qwen3-0.6B model with 28 transformer blocks. We'll identify the three that contribute least to the dataset used and remove them, creating a new 25-block model.\n"
      ],
      "metadata": {
        "id": "U1LQX9Chfcax"
      }
    },
    {
      "cell_type": "code",
      "source": [
        "MODEL_NAME = 'Qwen/Qwen3-0.6B'\n",
        "tokenizer = AutoTokenizer.from_pretrained(MODEL_NAME)\n",
        "if tokenizer.pad_token is None:\n",
        "    tokenizer.pad_token = tokenizer.eos_token\n",
        "\n",
        "model = AutoModelForCausalLM.from_pretrained(\n",
        "    MODEL_NAME,\n",
        "    dtype=torch.float16,\n",
        "    device_map=\"auto\"\n",
        ")\n",
        "model.eval()"
      ],
      "metadata": {
        "colab": {
          "base_uri": "https://localhost:8080/"
        },
        "id": "lAgu7fpKZmom",
        "outputId": "2387ea2b-c49b-4cb3-d00c-5746a73c7a73"
      },
      "execution_count": 6,
      "outputs": [
        {
          "output_type": "execute_result",
          "data": {
            "text/plain": [
              "Qwen3ForCausalLM(\n",
              "  (model): Qwen3Model(\n",
              "    (embed_tokens): Embedding(151936, 1024)\n",
              "    (layers): ModuleList(\n",
              "      (0-27): 28 x Qwen3DecoderLayer(\n",
              "        (self_attn): Qwen3Attention(\n",
              "          (q_proj): Linear(in_features=1024, out_features=2048, bias=False)\n",
              "          (k_proj): Linear(in_features=1024, out_features=1024, bias=False)\n",
              "          (v_proj): Linear(in_features=1024, out_features=1024, bias=False)\n",
              "          (o_proj): Linear(in_features=2048, out_features=1024, bias=False)\n",
              "          (q_norm): Qwen3RMSNorm((128,), eps=1e-06)\n",
              "          (k_norm): Qwen3RMSNorm((128,), eps=1e-06)\n",
              "        )\n",
              "        (mlp): Qwen3MLP(\n",
              "          (gate_proj): Linear(in_features=1024, out_features=3072, bias=False)\n",
              "          (up_proj): Linear(in_features=1024, out_features=3072, bias=False)\n",
              "          (down_proj): Linear(in_features=3072, out_features=1024, bias=False)\n",
              "          (act_fn): SiLU()\n",
              "        )\n",
              "        (input_layernorm): Qwen3RMSNorm((1024,), eps=1e-06)\n",
              "        (post_attention_layernorm): Qwen3RMSNorm((1024,), eps=1e-06)\n",
              "      )\n",
              "    )\n",
              "    (norm): Qwen3RMSNorm((1024,), eps=1e-06)\n",
              "    (rotary_emb): Qwen3RotaryEmbedding()\n",
              "  )\n",
              "  (lm_head): Linear(in_features=1024, out_features=151936, bias=False)\n",
              ")"
            ]
          },
          "metadata": {},
          "execution_count": 6
        }
      ]
    },
    {
      "cell_type": "markdown",
      "source": [
        "## Load & Preparing Dataset\n",
        "\n",
        "We're going to use a standard dataset to measure the importance of the different transformer blocks. The idea is that you use the dataset you're preparing the model for, this way you'll get a lighter model that will work correctly with your data."
      ],
      "metadata": {
        "id": "tPe9MUTAaYd4"
      }
    },
    {
      "cell_type": "code",
      "source": [
        "RECOVERY_SAMPLES = 100\n",
        "BATCH_SIZE = 8\n",
        "MAX_LENGTH = 512"
      ],
      "metadata": {
        "id": "ctrwi74Wab1g"
      },
      "execution_count": 4,
      "outputs": []
    },
    {
      "cell_type": "code",
      "source": [
        "dataset = load_dataset('wikitext', 'wikitext-2-raw-v1', split=f'train[:{RECOVERY_SAMPLES}]')"
      ],
      "metadata": {
        "id": "u_RNKASCalsK"
      },
      "execution_count": 9,
      "outputs": []
    },
    {
      "cell_type": "code",
      "source": [
        "def prepare_dataset(dataset, text_field='text'):\n",
        "  def tokenize_function(examples):\n",
        "      if text_field in examples:\n",
        "          texts = examples[text_field]\n",
        "      elif 'sms' in examples:  # SMS dataset\n",
        "          texts = examples['sms']\n",
        "      elif 'text' in examples:\n",
        "          texts = examples['text']\n",
        "      else:\n",
        "          texts = examples[list(examples.keys())[0]]  # First available field\n",
        "\n",
        "      return tokenizer(\n",
        "          texts,\n",
        "          truncation=True,\n",
        "          padding='max_length',\n",
        "          max_length=MAX_LENGTH,\n",
        "          return_tensors='pt'\n",
        "      )\n",
        "\n",
        "  tokenized = dataset.map(tokenize_function, batched=True, remove_columns=dataset.column_names)\n",
        "  tokenized.set_format(type='torch', columns=['input_ids', 'attention_mask'])\n",
        "  return DataLoader(tokenized, batch_size=BATCH_SIZE, shuffle=False)"
      ],
      "metadata": {
        "id": "Ta2nGfu5anop"
      },
      "execution_count": 10,
      "outputs": []
    },
    {
      "cell_type": "code",
      "source": [
        "dataloader = prepare_dataset(dataset)"
      ],
      "metadata": {
        "id": "gBaJ1tJkasA0"
      },
      "execution_count": null,
      "outputs": []
    },
    {
      "cell_type": "markdown",
      "source": [
        "## Call to `analyze_layer_importance`\n",
        "\n",
        "The `analyze_layer_importance` function only needs to receive the model and the dataloader it should work with.\n",
        "\n",
        "It will analyze how the different blocks transform information and return a dictionary with the layers and their cosine distance.\n",
        "\n",
        "A value of 1 indicates it modifies information in an important way and therefore it's an active block that contributes to the final result. A value of 0 or close to 0 indicates the block is passive and doesn't alter information when passing through it.\n",
        "\n",
        "Blocks with values close to 0 are the candidates to be eliminated."
      ],
      "metadata": {
        "id": "ANKMywfhgQBX"
      }
    },
    {
      "cell_type": "code",
      "source": [
        "importance_scores = analyze_layer_importance(model, dataloader, show_progress=True)\n"
      ],
      "metadata": {
        "colab": {
          "base_uri": "https://localhost:8080/"
        },
        "id": "caOzchzdawkT",
        "outputId": "4722dcfd-1ca4-4a38-a24f-43ef37e74f23"
      },
      "execution_count": 15,
      "outputs": [
        {
          "output_type": "stream",
          "name": "stderr",
          "text": [
            "Processing batches: 100%|██████████| 13/13 [00:06<00:00,  1.96it/s]\n"
          ]
        }
      ]
    },
    {
      "cell_type": "code",
      "source": [
        "print(importance_scores)"
      ],
      "metadata": {
        "colab": {
          "base_uri": "https://localhost:8080/"
        },
        "id": "5ogZvFWMcFfb",
        "outputId": "53629972-bf4c-46de-a697-c4dea2f476d2"
      },
      "execution_count": 18,
      "outputs": [
        {
          "output_type": "stream",
          "name": "stdout",
          "text": [
            "{0: np.float64(0.8903949444110577), 1: np.float64(0.30757962740384615), 2: np.float64(0.7715407151442307), 3: np.float64(0.044283353365384616), 4: np.float64(0.051382211538461536), 5: np.float64(0.047475961538461536), 6: np.float64(0.04713792067307692), 7: np.float64(0.03339092548076923), 8: np.float64(0.040151742788461536), 9: np.float64(0.049692007211538464), 10: np.float64(0.04417067307692308), 11: np.float64(0.051194411057692304), 12: np.float64(0.04424579326923077), 13: np.float64(0.04852764423076923), 14: np.float64(0.045335036057692304), 15: np.float64(0.045335036057692304), 16: np.float64(0.051645132211538464), 17: np.float64(0.060884915865384616), 18: np.float64(0.03786057692307692), 19: np.float64(0.054762620192307696), 20: np.float64(0.042405348557692304), 21: np.float64(0.06276292067307693), 22: np.float64(0.0692608173076923), 23: np.float64(0.0829326923076923), 24: np.float64(0.07241586538461539), 25: np.float64(0.07466947115384616), 26: np.float64(0.06366436298076923), 27: np.float64(0.1731896033653846)}\n"
          ]
        }
      ]
    },
    {
      "cell_type": "code",
      "source": [
        "layers_2_remove = sorted(importance_scores.keys(), key=lambda x: importance_scores[x])[:3]\n",
        "print (layers_2_remove)"
      ],
      "metadata": {
        "colab": {
          "base_uri": "https://localhost:8080/"
        },
        "id": "PdKDPyvzbyFj",
        "outputId": "cccb4c78-be03-4110-b4f0-54fce1e7ba14"
      },
      "execution_count": 25,
      "outputs": [
        {
          "output_type": "stream",
          "name": "stdout",
          "text": [
            "[7, 18, 8]\n"
          ]
        }
      ]
    },
    {
      "cell_type": "markdown",
      "source": [
        "### Prune model.\n",
        "\n",
        "With the least important blocks identified, we call `prune_model_depth` and remove the blocks.\n",
        "\n",
        "It will return the new model without the selected layers."
      ],
      "metadata": {
        "id": "_F5ixLmrhJ5I"
      }
    },
    {
      "cell_type": "code",
      "source": [
        "pruned_model = prune_model_depth(\n",
        "        model=model,\n",
        "        layer_indices=layers_2_remove,\n",
        "        show_progress=True\n",
        "    )"
      ],
      "metadata": {
        "colab": {
          "base_uri": "https://localhost:8080/"
        },
        "id": "dL7y1GkTcAC3",
        "outputId": "18bdc477-e78e-45ba-c91d-29d73059cf5d"
      },
      "execution_count": 26,
      "outputs": [
        {
          "output_type": "stream",
          "name": "stderr",
          "text": [
            "Removing layers: 100%|██████████| 28/28 [00:00<00:00, 306633.19it/s]\n"
          ]
        }
      ]
    },
    {
      "cell_type": "code",
      "source": [
        "pruned_model"
      ],
      "metadata": {
        "colab": {
          "base_uri": "https://localhost:8080/"
        },
        "id": "ASPNQFXodoAU",
        "outputId": "7772e22f-d88a-4ded-fa9d-5607e9807f70"
      },
      "execution_count": 27,
      "outputs": [
        {
          "output_type": "execute_result",
          "data": {
            "text/plain": [
              "Qwen3ForCausalLM(\n",
              "  (model): Qwen3Model(\n",
              "    (embed_tokens): Embedding(151936, 1024)\n",
              "    (layers): ModuleList(\n",
              "      (0-24): 25 x Qwen3DecoderLayer(\n",
              "        (self_attn): Qwen3Attention(\n",
              "          (q_proj): Linear(in_features=1024, out_features=2048, bias=False)\n",
              "          (k_proj): Linear(in_features=1024, out_features=1024, bias=False)\n",
              "          (v_proj): Linear(in_features=1024, out_features=1024, bias=False)\n",
              "          (o_proj): Linear(in_features=2048, out_features=1024, bias=False)\n",
              "          (q_norm): Qwen3RMSNorm((128,), eps=1e-06)\n",
              "          (k_norm): Qwen3RMSNorm((128,), eps=1e-06)\n",
              "        )\n",
              "        (mlp): Qwen3MLP(\n",
              "          (gate_proj): Linear(in_features=1024, out_features=3072, bias=False)\n",
              "          (up_proj): Linear(in_features=1024, out_features=3072, bias=False)\n",
              "          (down_proj): Linear(in_features=3072, out_features=1024, bias=False)\n",
              "          (act_fn): SiLU()\n",
              "        )\n",
              "        (input_layernorm): Qwen3RMSNorm((1024,), eps=1e-06)\n",
              "        (post_attention_layernorm): Qwen3RMSNorm((1024,), eps=1e-06)\n",
              "      )\n",
              "    )\n",
              "    (norm): Qwen3RMSNorm((1024,), eps=1e-06)\n",
              "    (rotary_emb): Qwen3RotaryEmbedding()\n",
              "  )\n",
              "  (lm_head): Linear(in_features=1024, out_features=151936, bias=False)\n",
              ")"
            ]
          },
          "metadata": {},
          "execution_count": 27
        }
      ]
    },
    {
      "cell_type": "markdown",
      "source": [
        "The new model has only 25 layers.\n",
        "\n",
        "Now you could start a Knowledge Distillation process to recover the lost general capabilities and you would have a lighter model that would work perfectly for the specific task you're preparing it for."
      ],
      "metadata": {
        "id": "cA-euhhyhpT6"
      }
    },
    {
      "cell_type": "markdown",
      "source": [
        "### ➡️ [**Star OptiPFair on GitHub**](https://github.com/peremartra/optipfair)\n",
        "\n",
        "---\n",
        "You can also follow my work and new projects on:\n",
        "\n",
        "* **[LinkedIn](https://www.linkedin.com/in/pere-martra/)**\n",
        "* **[X / Twitter](https://twitter.com/PereMartra)**"
      ],
      "metadata": {
        "id": "wK5sdqr2d6He"
      }
    },
    {
      "cell_type": "code",
      "source": [],
      "metadata": {
        "id": "Gqdrd8ScfCjK"
      },
      "execution_count": null,
      "outputs": []
    }
  ]
}